{
 "cells": [
  {
   "cell_type": "code",
   "execution_count": 1,
   "id": "99746bba-e10b-4b69-85ad-94728c9a38f6",
   "metadata": {},
   "outputs": [],
   "source": [
    "import pandas as pd\n",
    "from datetime import datetime,timedelta\n",
    "import numpy as np\n",
    "import math\n",
    "from scipy.spatial import cKDTree\n",
    "import datetime as dt\n",
    "import glob\n",
    "\n",
    "%matplotlib inline"
   ]
  },
  {
   "cell_type": "code",
   "execution_count": 2,
   "id": "b0b75de9-abd0-4b31-85ec-21c35ad56d09",
   "metadata": {},
   "outputs": [],
   "source": [
    "def read_all(path:str):\n",
    "#  glob.glob(pathname, *, root_dir=None, dir_fd=None, recursive=False, include_hidden=False)\n",
    "    filename = glob.glob(path)\n",
    "    df = pd.read_csv(filename[0])\n",
    "    print(f'{filename[0]} has been read')\n",
    "    for index, i in enumerate(filename):\n",
    "        if index == 0:\n",
    "            continue\n",
    "        else:\n",
    "            df = pd.concat([df, pd.read_csv(i)], ignore_index=True)\n",
    "        print(f'{i} has been read')\n",
    "    return df\n",
    "        "
   ]
  },
  {
   "cell_type": "code",
   "execution_count": 3,
   "id": "497634f0-a11b-461f-844f-b53c3eeffb96",
   "metadata": {},
   "outputs": [
    {
     "name": "stdout",
     "output_type": "stream",
     "text": [
      "9. September/IN\\20231009 Data Tap IN Gate 1 - 10 September 2023.csv has been read\n",
      "9. September/IN\\20231009 Data Tap IN Gate 11 - 20 September 2023.csv has been read\n",
      "9. September/IN\\20231009 Data Tap IN Gate 21 - 30 September 2023.csv has been read\n",
      "9. September/OUT\\20231009 Data Tap OUT Gate 1 - 10 September 2023.csv has been read\n",
      "9. September/OUT\\20231009 Data Tap OUT Gate 11 - 20 September 2023.csv has been read\n",
      "9. September/OUT\\20231009 Data Tap OUT Gate 21- 30 September 2023.csv has been read\n"
     ]
    }
   ],
   "source": [
    "data_tap_in_gate = read_all('9. September/IN/*.csv')\n",
    "data_tap_out_gate = read_all('9. September/OUT/*.csv')\n",
    "# data_tap_in_tob = read_all('OD TOB OKTOBER 2022/IN/*.csv')\n",
    "# data_tap_out_tob = read_all('OD TOB OKTOBER 2022/OUT/*.csv')"
   ]
  },
  {
   "cell_type": "code",
   "execution_count": 4,
   "id": "e8da7625-be9f-4414-9662-097e9c443055",
   "metadata": {},
   "outputs": [
    {
     "data": {
      "text/plain": [
       "(10512624, 7)"
      ]
     },
     "execution_count": 4,
     "metadata": {},
     "output_type": "execute_result"
    }
   ],
   "source": [
    "data_tap_in_gate.shape"
   ]
  },
  {
   "cell_type": "markdown",
   "id": "ee464cb0-d013-4ffc-8bcf-98331f2e098a",
   "metadata": {},
   "source": [
    "data_tap_in_tob.shape"
   ]
  },
  {
   "cell_type": "code",
   "execution_count": 5,
   "id": "bc329779-2ae6-47c8-83ab-c3c7c761be20",
   "metadata": {},
   "outputs": [
    {
     "data": {
      "text/plain": [
       "(10082255, 7)"
      ]
     },
     "execution_count": 5,
     "metadata": {},
     "output_type": "execute_result"
    }
   ],
   "source": [
    "data_tap_out_gate.shape"
   ]
  },
  {
   "cell_type": "markdown",
   "id": "399e80e6-f0c0-4ecc-9530-c150e49e2052",
   "metadata": {},
   "source": [
    "data_tap_out_tob.shape"
   ]
  },
  {
   "cell_type": "markdown",
   "id": "c4227bb2-6ec1-4fbe-8bb0-33e6b2b69836",
   "metadata": {},
   "source": [
    "data_tap_out_tob.info()"
   ]
  },
  {
   "cell_type": "markdown",
   "id": "02773ece-33f7-4587-8932-791ed6a80035",
   "metadata": {},
   "source": [
    "# Read Data"
   ]
  },
  {
   "cell_type": "code",
   "execution_count": null,
   "id": "53c96fa6-aecf-4a92-994e-946cfa3772e9",
   "metadata": {},
   "outputs": [],
   "source": [
    "data_tap_in_gate = pd.read_csv('OD GATE TOB Agustus 2023/gate_for_OD_IN Agustus 2023.csv')\n",
    "data_tap_out_gate = pd.read_csv('OD GATE TOB Agustus 2023/gate_for_OD_IN Agustus 2023.csv')\n",
    "data_tap_in_tob = pd.read_csv('bahan od nov 2022/In TOB Nov 2022.csv')\n",
    "data_tap_out_tob = pd.read_csv('bahan od nov 2022/Out TOB Nov 2022.csv')"
   ]
  },
  {
   "cell_type": "markdown",
   "id": "831df6b6-7a1e-483b-8016-763cd478e57d",
   "metadata": {},
   "source": [
    "data_tap_in_gate.info()"
   ]
  },
  {
   "cell_type": "markdown",
   "id": "7e63976b-bc1f-4ab9-87fa-b62266f0037d",
   "metadata": {},
   "source": [
    "data_tap_in_tob.info()"
   ]
  },
  {
   "cell_type": "markdown",
   "id": "73bab36c-793f-4dc1-844d-5173dffff5c9",
   "metadata": {},
   "source": [
    "# Menambahkan data Bus Stop pada transaksi TOB"
   ]
  },
  {
   "cell_type": "markdown",
   "id": "b3b5a4de-291e-4687-a12d-48772f723111",
   "metadata": {},
   "source": [
    "### Read Data Bus stop"
   ]
  },
  {
   "cell_type": "code",
   "execution_count": 6,
   "id": "1d16b594-4db7-4bd1-a247-a5bb76e60377",
   "metadata": {},
   "outputs": [],
   "source": [
    "data_bus_stop = pd.read_csv('tj_stops.csv')"
   ]
  },
  {
   "cell_type": "code",
   "execution_count": 7,
   "id": "dfb61e1c-aa99-483b-b22e-f973f181239d",
   "metadata": {},
   "outputs": [],
   "source": [
    "data_bus_stop['bus_stop'] = data_bus_stop.index"
   ]
  },
  {
   "cell_type": "code",
   "execution_count": 8,
   "id": "e07e2504-604a-4f1b-9067-15afcdbcb10d",
   "metadata": {},
   "outputs": [
    {
     "data": {
      "text/html": [
       "<div>\n",
       "<style scoped>\n",
       "    .dataframe tbody tr th:only-of-type {\n",
       "        vertical-align: middle;\n",
       "    }\n",
       "\n",
       "    .dataframe tbody tr th {\n",
       "        vertical-align: top;\n",
       "    }\n",
       "\n",
       "    .dataframe thead th {\n",
       "        text-align: right;\n",
       "    }\n",
       "</style>\n",
       "<table border=\"1\" class=\"dataframe\">\n",
       "  <thead>\n",
       "    <tr style=\"text-align: right;\">\n",
       "      <th></th>\n",
       "      <th>Stop ID</th>\n",
       "      <th>Nama Perhentian Bus</th>\n",
       "      <th>Koordinat</th>\n",
       "      <th>Tipe Perhentian Bus</th>\n",
       "      <th>Tipe Halte</th>\n",
       "      <th>Kecamatan</th>\n",
       "      <th>Kota</th>\n",
       "      <th>Latitude</th>\n",
       "      <th>Longitude</th>\n",
       "      <th>Jumlah Rute</th>\n",
       "      <th>Rute yang Melewati</th>\n",
       "      <th>Stop ID (2)</th>\n",
       "      <th>Koridor - Pelayanan</th>\n",
       "      <th>Jenis Perhentian Bus</th>\n",
       "      <th>Tipe Penanda</th>\n",
       "      <th>bus_stop</th>\n",
       "    </tr>\n",
       "  </thead>\n",
       "  <tbody>\n",
       "    <tr>\n",
       "      <th>0</th>\n",
       "      <td>B00001P</td>\n",
       "      <td>18 Office Park</td>\n",
       "      <td>-6.299146, 106.832099</td>\n",
       "      <td>Bus Stop</td>\n",
       "      <td>-</td>\n",
       "      <td>Pasar Minggu</td>\n",
       "      <td>Jakarta Selatan</td>\n",
       "      <td>-6.299146</td>\n",
       "      <td>106.832099</td>\n",
       "      <td>1</td>\n",
       "      <td>JAK.46</td>\n",
       "      <td>B00001P</td>\n",
       "      <td>Non-koridor</td>\n",
       "      <td>Particular</td>\n",
       "      <td>NaN</td>\n",
       "      <td>0</td>\n",
       "    </tr>\n",
       "    <tr>\n",
       "      <th>1</th>\n",
       "      <td>B00002P</td>\n",
       "      <td>ABA</td>\n",
       "      <td>-6.194149, 106.839385</td>\n",
       "      <td>Bus Stop</td>\n",
       "      <td>-</td>\n",
       "      <td>Menteng</td>\n",
       "      <td>Jakarta Pusat</td>\n",
       "      <td>-6.194149</td>\n",
       "      <td>106.839385</td>\n",
       "      <td>4</td>\n",
       "      <td>5M, 6H, JAK.10A, JAK.10B</td>\n",
       "      <td>B00002P</td>\n",
       "      <td>Non-koridor</td>\n",
       "      <td>Particular</td>\n",
       "      <td>NaN</td>\n",
       "      <td>1</td>\n",
       "    </tr>\n",
       "    <tr>\n",
       "      <th>2</th>\n",
       "      <td>B00003P</td>\n",
       "      <td>Acacia Residence</td>\n",
       "      <td>-6.263358, 106.756754</td>\n",
       "      <td>Bus Stop</td>\n",
       "      <td>-</td>\n",
       "      <td>Pesanggrahan</td>\n",
       "      <td>Jakarta Selatan</td>\n",
       "      <td>-6.263358</td>\n",
       "      <td>106.756754</td>\n",
       "      <td>1</td>\n",
       "      <td>8E</td>\n",
       "      <td>B00003P</td>\n",
       "      <td>Non-koridor</td>\n",
       "      <td>Particular</td>\n",
       "      <td>NaN</td>\n",
       "      <td>2</td>\n",
       "    </tr>\n",
       "    <tr>\n",
       "      <th>3</th>\n",
       "      <td>B00004P</td>\n",
       "      <td>ACC Simatupang</td>\n",
       "      <td>-6.304475, 106.84858</td>\n",
       "      <td>Bus Stop</td>\n",
       "      <td>-</td>\n",
       "      <td>Jagakarsa</td>\n",
       "      <td>Jakarta Selatan</td>\n",
       "      <td>-6.304475</td>\n",
       "      <td>106.848580</td>\n",
       "      <td>3</td>\n",
       "      <td>7A, 7E, D21</td>\n",
       "      <td>B00004P</td>\n",
       "      <td>Non-koridor</td>\n",
       "      <td>Particular</td>\n",
       "      <td>NaN</td>\n",
       "      <td>3</td>\n",
       "    </tr>\n",
       "    <tr>\n",
       "      <th>4</th>\n",
       "      <td>B00005P</td>\n",
       "      <td>ACE Hardware</td>\n",
       "      <td>-6.387532, 106.827383</td>\n",
       "      <td>Bus Stop</td>\n",
       "      <td>-</td>\n",
       "      <td>Beji</td>\n",
       "      <td>Depok</td>\n",
       "      <td>-6.387532</td>\n",
       "      <td>106.827383</td>\n",
       "      <td>1</td>\n",
       "      <td>D11</td>\n",
       "      <td>B00005P</td>\n",
       "      <td>Non-koridor</td>\n",
       "      <td>Particular</td>\n",
       "      <td>NaN</td>\n",
       "      <td>4</td>\n",
       "    </tr>\n",
       "  </tbody>\n",
       "</table>\n",
       "</div>"
      ],
      "text/plain": [
       "   Stop ID Nama Perhentian Bus              Koordinat Tipe Perhentian Bus   \n",
       "0  B00001P      18 Office Park  -6.299146, 106.832099            Bus Stop  \\\n",
       "1  B00002P                 ABA  -6.194149, 106.839385            Bus Stop   \n",
       "2  B00003P    Acacia Residence  -6.263358, 106.756754            Bus Stop   \n",
       "3  B00004P      ACC Simatupang   -6.304475, 106.84858            Bus Stop   \n",
       "4  B00005P        ACE Hardware  -6.387532, 106.827383            Bus Stop   \n",
       "\n",
       "  Tipe Halte     Kecamatan             Kota  Latitude   Longitude   \n",
       "0          -  Pasar Minggu  Jakarta Selatan -6.299146  106.832099  \\\n",
       "1          -       Menteng    Jakarta Pusat -6.194149  106.839385   \n",
       "2          -  Pesanggrahan  Jakarta Selatan -6.263358  106.756754   \n",
       "3          -     Jagakarsa  Jakarta Selatan -6.304475  106.848580   \n",
       "4          -          Beji            Depok -6.387532  106.827383   \n",
       "\n",
       "   Jumlah Rute        Rute yang Melewati Stop ID (2) Koridor - Pelayanan   \n",
       "0            1                    JAK.46     B00001P         Non-koridor  \\\n",
       "1            4  5M, 6H, JAK.10A, JAK.10B     B00002P         Non-koridor   \n",
       "2            1                        8E     B00003P         Non-koridor   \n",
       "3            3               7A, 7E, D21     B00004P         Non-koridor   \n",
       "4            1                       D11     B00005P         Non-koridor   \n",
       "\n",
       "  Jenis Perhentian Bus Tipe Penanda  bus_stop  \n",
       "0           Particular          NaN         0  \n",
       "1           Particular          NaN         1  \n",
       "2           Particular          NaN         2  \n",
       "3           Particular          NaN         3  \n",
       "4           Particular          NaN         4  "
      ]
     },
     "execution_count": 8,
     "metadata": {},
     "output_type": "execute_result"
    }
   ],
   "source": [
    "data_bus_stop.head()"
   ]
  },
  {
   "cell_type": "code",
   "execution_count": 9,
   "id": "4cefbb1f-95df-44f0-b172-1493c2d9c263",
   "metadata": {},
   "outputs": [],
   "source": [
    "data_bus_stop.drop(['Stop ID','Koordinat','Tipe Perhentian Bus','Tipe Halte','Stop ID (2)','Tipe Penanda'],axis=1,inplace=True)"
   ]
  },
  {
   "cell_type": "markdown",
   "id": "9f009ee1-eac0-4dd6-905a-a7cc70abf67f",
   "metadata": {},
   "source": [
    "### Menambahkan data bus stop pada data tap in tob"
   ]
  },
  {
   "cell_type": "code",
   "execution_count": null,
   "id": "4ddb94ab-1e38-4a59-acbd-da4f2d2c6c00",
   "metadata": {},
   "outputs": [],
   "source": [
    "# r = 1 degree ~~ 111km, r = 0.00045 ~~ 50m\n",
    "# r = 1 degree ~~ 111km, r = 0.0009 ~~ 100m\n",
    "\n",
    "ck = cKDTree(data_bus_stop[['Latitude','Longitude']].values)\n",
    "\n",
    "dataset3 = ck.query_ball_point(data_tap_in_tob[['p_latitude_flo','p_longitude_flo']].values, r=0.00045, p=2)"
   ]
  },
  {
   "cell_type": "code",
   "execution_count": null,
   "id": "f41c257f-8032-4741-bdfa-db08b4eab325",
   "metadata": {},
   "outputs": [],
   "source": [
    "y=[]\n",
    "for i in range (len(dataset3)):\n",
    "    try:\n",
    "        y.append(dataset3[i][0])\n",
    "    except:\n",
    "        y.append(np.nan)"
   ]
  },
  {
   "cell_type": "code",
   "execution_count": null,
   "id": "a90c683f-d4e1-4767-97df-b87fc1f91524",
   "metadata": {},
   "outputs": [],
   "source": [
    "data_tap_in_tob['bus_stop'] = y"
   ]
  },
  {
   "cell_type": "code",
   "execution_count": null,
   "id": "9f3b5513-2f36-4cdb-9ae3-85c26eba780f",
   "metadata": {},
   "outputs": [],
   "source": [
    "data_tap_in_tob = data_tap_in_tob.merge(data_bus_stop[['Nama Perhentian Bus','bus_stop','Latitude','Longitude','Kecamatan','Kota']],how = 'left', on='bus_stop')"
   ]
  },
  {
   "cell_type": "code",
   "execution_count": null,
   "id": "8e15213a-a4fd-439c-b1f0-8b78efb5afd2",
   "metadata": {},
   "outputs": [],
   "source": [
    "data_tap_in_tob.drop(['shelter_name_var','bus_stop','p_latitude_flo','p_longitude_flo'],axis=1,inplace=True)"
   ]
  },
  {
   "cell_type": "code",
   "execution_count": null,
   "id": "23a3b7ef-d462-4d49-81ed-272614754338",
   "metadata": {},
   "outputs": [],
   "source": [
    "data_tap_in_tob.rename({'Nama Perhentian Bus':'shelter_name_var'},axis=1,inplace=True)"
   ]
  },
  {
   "cell_type": "code",
   "execution_count": null,
   "id": "89e8af09-f515-4346-b07f-6ff3a6256935",
   "metadata": {},
   "outputs": [],
   "source": [
    "data_tap_in_tob['layanan'] = 'TOB'"
   ]
  },
  {
   "cell_type": "code",
   "execution_count": null,
   "id": "5edb488c-ea0e-4e04-99cb-c25ee76009db",
   "metadata": {},
   "outputs": [],
   "source": [
    "data_tap_in_tob.head()"
   ]
  },
  {
   "cell_type": "markdown",
   "id": "8115eda4-bf95-4ed7-a1de-588c3bee5523",
   "metadata": {},
   "source": [
    "### Menambahkan data bus stop pada data tap out tob"
   ]
  },
  {
   "cell_type": "code",
   "execution_count": null,
   "id": "872b7f3d-55e1-4393-8138-40134d09859f",
   "metadata": {},
   "outputs": [],
   "source": [
    "# r = 1 degree ~~ 111km, r = 0.00045 ~~ 50m\n",
    "# r = 1 degree ~~ 111km, r = 0.0009 ~~ 100m\n",
    "\n",
    "ck = cKDTree(data_bus_stop[['Latitude','Longitude']].values)\n",
    "\n",
    "dataset3 = ck.query_ball_point(data_tap_out_tob[['p_latitude_flo','p_longitude_flo']].values, r=0.00045, p=2)"
   ]
  },
  {
   "cell_type": "code",
   "execution_count": null,
   "id": "da74bf56-3302-412c-ab4a-08b3c8392f74",
   "metadata": {},
   "outputs": [],
   "source": [
    "y=[]\n",
    "for i in range (len(dataset3)):\n",
    "    try:\n",
    "        y.append(dataset3[i][0])\n",
    "    except:\n",
    "        y.append(np.nan)"
   ]
  },
  {
   "cell_type": "code",
   "execution_count": null,
   "id": "6cd3bf5a-0703-4151-b6c8-f3b3182697b6",
   "metadata": {},
   "outputs": [],
   "source": [
    "data_tap_out_tob['bus_stop'] = y"
   ]
  },
  {
   "cell_type": "code",
   "execution_count": null,
   "id": "ddc06569-c601-46d2-9f48-1a2fccd5fefd",
   "metadata": {},
   "outputs": [],
   "source": [
    "data_tap_out_tob = data_tap_out_tob.merge(data_bus_stop[['Nama Perhentian Bus','bus_stop','Latitude','Longitude','Kecamatan','Kota']],how = 'left', on='bus_stop')"
   ]
  },
  {
   "cell_type": "code",
   "execution_count": null,
   "id": "0236e490-fa00-4cc3-a5df-cb3b545d352f",
   "metadata": {},
   "outputs": [],
   "source": [
    "data_tap_out_tob.drop(['shelter_name_var','bus_stop','p_latitude_flo','p_longitude_flo'],axis=1,inplace=True)"
   ]
  },
  {
   "cell_type": "code",
   "execution_count": null,
   "id": "f6956a2c-501a-420e-b811-5382172335fa",
   "metadata": {},
   "outputs": [],
   "source": [
    "data_tap_out_tob.rename({'Nama Perhentian Bus':'shelter_name_var'},axis=1,inplace=True)"
   ]
  },
  {
   "cell_type": "code",
   "execution_count": null,
   "id": "804f2098-4526-4529-922b-98b89e9a8bee",
   "metadata": {},
   "outputs": [],
   "source": [
    "data_tap_out_tob['layanan'] = 'TOB'"
   ]
  },
  {
   "cell_type": "code",
   "execution_count": null,
   "id": "af987189-e53e-4620-b689-01f8e5f02ad1",
   "metadata": {},
   "outputs": [],
   "source": [
    "data_tap_out_tob.head()"
   ]
  },
  {
   "cell_type": "markdown",
   "id": "27b899c3-a59c-4c30-9b92-d297ccc6b9cb",
   "metadata": {},
   "source": [
    "# GET LAT, LON, Kecamatan & Kota for Gate Transaction"
   ]
  },
  {
   "cell_type": "code",
   "execution_count": 10,
   "id": "65ce12f1-4141-44ad-b63c-4d3caf305616",
   "metadata": {},
   "outputs": [],
   "source": [
    "# data_tap_in_gate = data_tap_in_gate.merge(data_bus_stop[['Nama Perhentian Bus','Latitude','Longitude','Kecamatan','Kota']],how = 'left', left_on=data_tap_in_gate['shelter_name_var'].str.lower(), right_on=data_bus_stop['Nama Perhentian Bus'].str.lower())\n",
    "# data_tap_out_gate = data_tap_out_gate.merge(data_bus_stop[['Nama Perhentian Bus','Latitude','Longitude','Kecamatan','Kota']],how = 'left', left_on=data_tap_out_gate['shelter_name_var'].str.lower(), right_on=data_bus_stop['Nama Perhentian Bus'].str.lower())\n",
    "data_tap_in_gate = data_tap_in_gate.merge(data_bus_stop[['Latitude','Longitude','Kecamatan','Kota']],how = 'left', left_on=data_tap_in_gate['shelter_name_var'].str.lower(), right_on=data_bus_stop['Nama Perhentian Bus'].str.lower())\n",
    "data_tap_out_gate = data_tap_out_gate.merge(data_bus_stop[['Latitude','Longitude','Kecamatan','Kota']],how = 'left', left_on=data_tap_out_gate['shelter_name_var'].str.lower(), right_on=data_bus_stop['Nama Perhentian Bus'].str.lower())\n",
    "# data_tap_in_gate.drop(['shelter_name_var','key_0'], axis=1, inplace=True)\n",
    "# data_tap_out_gate.drop(['shelter_name_var','key_0'], axis=1, inplace=True)\n",
    "# data_tap_in_gate.rename({'Nama Perhentian Bus':'shelter_name_var'},axis=1,inplace=True)\n",
    "# data_tap_out_gate.rename({'Nama Perhentian Bus':'shelter_name_var'},axis=1,inplace=True)"
   ]
  },
  {
   "cell_type": "code",
   "execution_count": null,
   "id": "d43aeaaf-e235-4b29-bb47-ef25319c9c80",
   "metadata": {},
   "outputs": [],
   "source": [
    "data_tap_out_gate.head()"
   ]
  },
  {
   "cell_type": "markdown",
   "id": "a8892375-8cf3-4992-9085-19e243b3cfa2",
   "metadata": {},
   "source": [
    "# Union data TOB dan GATE"
   ]
  },
  {
   "cell_type": "code",
   "execution_count": 11,
   "id": "b3ecfb55-4641-4a57-a8fe-6c0ea9c19bbd",
   "metadata": {},
   "outputs": [],
   "source": [
    "data_tap_in_gate['layanan']='Gate'\n",
    "data_tap_out_gate['layanan']='Gate'"
   ]
  },
  {
   "cell_type": "markdown",
   "id": "370120f8-a39e-43e5-91da-bc85182fef7f",
   "metadata": {},
   "source": [
    "data_tap_out_tob.loc[data_tap_out_tob['shelter_name_var'].isnull(), 'shelter_name_var'] = 'not bus stop'\n",
    "data_tap_in_tob.loc[data_tap_in_tob['shelter_name_var'].isnull(), 'shelter_name_var'] = 'not bus stop'"
   ]
  },
  {
   "cell_type": "markdown",
   "id": "1cd2f839-5ed9-47bf-8013-55f74dbdc06b",
   "metadata": {},
   "source": [
    "data_tap_in = pd.concat([data_tap_in_gate,data_tap_in_tob], ignore_index=True)\n",
    "data_tap_out = pd.concat([data_tap_out_gate,data_tap_out_tob], ignore_index=True)"
   ]
  },
  {
   "cell_type": "code",
   "execution_count": 12,
   "id": "a068fa29-5317-476e-be3e-17f939f43fb7",
   "metadata": {},
   "outputs": [],
   "source": [
    "data_tap_in = data_tap_in_gate.copy()\n",
    "data_tap_out = data_tap_out_gate.copy()"
   ]
  },
  {
   "cell_type": "code",
   "execution_count": 13,
   "id": "86bb80a5-1a20-480a-a2d7-59fe08f749a5",
   "metadata": {},
   "outputs": [
    {
     "data": {
      "text/plain": [
       "(10512624, 13)"
      ]
     },
     "execution_count": 13,
     "metadata": {},
     "output_type": "execute_result"
    }
   ],
   "source": [
    "data_tap_in.shape"
   ]
  },
  {
   "cell_type": "code",
   "execution_count": 14,
   "id": "d41c085c-69cb-4adc-98c2-2999a2b33064",
   "metadata": {},
   "outputs": [
    {
     "data": {
      "text/plain": [
       "(10082255, 13)"
      ]
     },
     "execution_count": 14,
     "metadata": {},
     "output_type": "execute_result"
    }
   ],
   "source": [
    "data_tap_out.shape"
   ]
  },
  {
   "cell_type": "code",
   "execution_count": 15,
   "id": "4d9eac49-fe6b-4250-8480-044e82bf0687",
   "metadata": {},
   "outputs": [
    {
     "data": {
      "text/plain": [
       "20594879"
      ]
     },
     "execution_count": 15,
     "metadata": {},
     "output_type": "execute_result"
    }
   ],
   "source": [
    "len(data_tap_in)+len(data_tap_out)"
   ]
  },
  {
   "cell_type": "markdown",
   "id": "d32e3364-e657-4c16-843a-a6581748ecc3",
   "metadata": {},
   "source": [
    "# Matching data Tap in dan Tap out"
   ]
  },
  {
   "cell_type": "code",
   "execution_count": 16,
   "id": "ad3e8b80-6e0a-491b-bdfa-f6b58b55bfb2",
   "metadata": {},
   "outputs": [],
   "source": [
    "data_tap_in['waktu_tap'] = data_tap_in['waktu_tap'].astype('datetime64[ns]')\n",
    "data_tap_out['waktu_tap'] = data_tap_out['waktu_tap'].astype('datetime64[ns]')\n",
    "data_tap_in['tanggal'] = data_tap_in['waktu_tap'].dt.date\n",
    "data_tap_out['tanggal'] = data_tap_out['waktu_tap'].dt.date"
   ]
  },
  {
   "cell_type": "code",
   "execution_count": 17,
   "id": "c0f45129-3c0c-4db7-91b8-070e773933de",
   "metadata": {},
   "outputs": [],
   "source": [
    "data_tap_out['waktu_out'] = data_tap_out['waktu_tap']\n",
    "data_tap_in['waktu_in'] = data_tap_in['waktu_tap']"
   ]
  },
  {
   "cell_type": "code",
   "execution_count": 18,
   "id": "0f5e4f17-f027-466e-bf9e-95f1e650390c",
   "metadata": {},
   "outputs": [],
   "source": [
    "data_tap_in['card_number_var'] = data_tap_in['card_number_var'].astype('str')\n",
    "data_tap_out['card_number_var'] = data_tap_out['card_number_var'].astype('str')"
   ]
  },
  {
   "cell_type": "code",
   "execution_count": 19,
   "id": "65ad8a5c-6577-48d9-9250-b1614680316e",
   "metadata": {},
   "outputs": [],
   "source": [
    "data_OD2 = pd.merge_asof(data_tap_in.sort_values('waktu_tap'),data_tap_out.sort_values('waktu_tap'),on='waktu_tap',by=['tanggal','card_number_var'],direction='forward',suffixes=('_in','_out'),tolerance=pd.Timedelta(\"3hours\"),allow_exact_matches=False,)"
   ]
  },
  {
   "cell_type": "markdown",
   "id": "0ba37b9a-e760-4033-944c-f457229f9bae",
   "metadata": {},
   "source": [
    "left_merge = pd.merge_asof(data_tap_in.sort_values('waktu_tap'), data_tap_out.sort_values('waktu_tap'),\n",
    "    tolerance=pd.Timedelta('3hours'), direction='forward', \n",
    "    on='waktu_tap', \n",
    "    by=['tanggal','card_number_var'],\n",
    "    suffixes=('_in','_out'))\n",
    "\n",
    "right_merge = pd.merge_asof(data_tap_out.sort_values('waktu_tap'), data_tap_in.sort_values('waktu_tap'), \n",
    "    tolerance=pd.Timedelta('3hours'), direction='backward', \n",
    "    on='waktu_tap',\n",
    "    by=['tanggal','card_number_var'],\n",
    "    suffixes=('_out','_in'))\n",
    "\n",
    "data_OD2 = (left_merge.merge(right_merge, how=\"outer\")\n",
    "    .sort_values(['waktu_tap'])\n",
    "    .reset_index(drop=True))"
   ]
  },
  {
   "cell_type": "markdown",
   "id": "7ee8097f-76ee-43af-8c9d-9630b6a0b45c",
   "metadata": {},
   "source": [
    "data_OD2['shelter_name_var_in'] = np.where(data_OD2['waktu_tap'] == data_OD2['waktu_in'],data_OD2['shelter_name_var_in'],np.nan)\n",
    "data_OD2['layanan_in'] = np.where(data_OD2['waktu_tap'] == data_OD2['waktu_in'],data_OD2['layanan_in'],np.nan)\n",
    "data_OD2['shelter_name_var_out'] = data_OD2['shelter_name_var_out'].mask(data_OD2.duplicated(['transcode_txt_out']))\n",
    "data_OD2['layanan_out'] = data_OD2['layanan_out'].mask(data_OD2.duplicated(['transcode_txt_out']))"
   ]
  },
  {
   "cell_type": "code",
   "execution_count": 20,
   "id": "32ab41dc-e936-465b-a308-93f7ae50a798",
   "metadata": {},
   "outputs": [
    {
     "name": "stdout",
     "output_type": "stream",
     "text": [
      "<class 'pandas.core.frame.DataFrame'>\n",
      "RangeIndex: 10512624 entries, 0 to 10512623\n",
      "Data columns (total 27 columns):\n",
      " #   Column                Dtype         \n",
      "---  ------                -----         \n",
      " 0   key_0_in              object        \n",
      " 1   shelter_name_var_in   object        \n",
      " 2   shelter_code_in       int64         \n",
      " 3   terminal_code_in      int64         \n",
      " 4   waktu_tap             datetime64[ns]\n",
      " 5   card_number_var       object        \n",
      " 6   tap_in                object        \n",
      " 7   transcode_txt_in      object        \n",
      " 8   Latitude_in           float64       \n",
      " 9   Longitude_in          float64       \n",
      " 10  Kecamatan_in          object        \n",
      " 11  Kota_in               object        \n",
      " 12  layanan_in            object        \n",
      " 13  tanggal               object        \n",
      " 14  waktu_in              datetime64[ns]\n",
      " 15  key_0_out             object        \n",
      " 16  shelter_name_var_out  object        \n",
      " 17  shelter_code_out      float64       \n",
      " 18  terminal_code_out     float64       \n",
      " 19  tap_out               object        \n",
      " 20  transcode_txt_out     object        \n",
      " 21  Latitude_out          float64       \n",
      " 22  Longitude_out         float64       \n",
      " 23  Kecamatan_out         object        \n",
      " 24  Kota_out              object        \n",
      " 25  layanan_out           object        \n",
      " 26  waktu_out             datetime64[ns]\n",
      "dtypes: datetime64[ns](3), float64(6), int64(2), object(16)\n",
      "memory usage: 2.1+ GB\n"
     ]
    }
   ],
   "source": [
    "data_OD2.info()"
   ]
  },
  {
   "cell_type": "code",
   "execution_count": 21,
   "id": "5cb93943-2363-4bc4-8ea7-8c53be1895c3",
   "metadata": {},
   "outputs": [],
   "source": [
    "# data_OD2.drop(['shelter_code_in','terminal_code_in','waktu_tap','card_number_var','tap_in','tanggal','shelter_code_out','terminal_code_out','tap_out'],axis=1,inplace=True)\n",
    "data_OD2.drop(['shelter_code_in','terminal_code_in','tap_in','waktu_tap','tanggal','shelter_code_out','terminal_code_out','tap_out'],axis=1,inplace=True)"
   ]
  },
  {
   "cell_type": "code",
   "execution_count": 22,
   "id": "48bce35e-ed93-410d-b71c-d3c968735d67",
   "metadata": {},
   "outputs": [],
   "source": [
    "# data_OD2 = data_OD2[data_OD2['Kecamatan_in'].notnull() & data_OD2['Kecamatan_out'].notnull()]"
   ]
  },
  {
   "cell_type": "markdown",
   "id": "976ad955-0def-4f54-b1a9-52fd491cd19d",
   "metadata": {},
   "source": [
    "data_OD2.to_csv('Result_OD_BRT_NBRT_Transjakarta_Okt_2022 rev1.csv')"
   ]
  },
  {
   "cell_type": "code",
   "execution_count": 23,
   "id": "1802cfc2-34b8-416c-ad78-90574c8d13de",
   "metadata": {},
   "outputs": [],
   "source": [
    "data_OD2.to_csv('Result_OD_BRT_Transjakarta_Sep_2023 rev1.csv')"
   ]
  },
  {
   "cell_type": "code",
   "execution_count": 24,
   "id": "a899a150-434e-4688-9fb5-8bdb82112d77",
   "metadata": {},
   "outputs": [
    {
     "data": {
      "text/html": [
       "<div>\n",
       "<style scoped>\n",
       "    .dataframe tbody tr th:only-of-type {\n",
       "        vertical-align: middle;\n",
       "    }\n",
       "\n",
       "    .dataframe tbody tr th {\n",
       "        vertical-align: top;\n",
       "    }\n",
       "\n",
       "    .dataframe thead th {\n",
       "        text-align: right;\n",
       "    }\n",
       "</style>\n",
       "<table border=\"1\" class=\"dataframe\">\n",
       "  <thead>\n",
       "    <tr style=\"text-align: right;\">\n",
       "      <th></th>\n",
       "      <th>key_0_in</th>\n",
       "      <th>shelter_name_var_in</th>\n",
       "      <th>card_number_var</th>\n",
       "      <th>transcode_txt_in</th>\n",
       "      <th>Latitude_in</th>\n",
       "      <th>Longitude_in</th>\n",
       "      <th>Kecamatan_in</th>\n",
       "      <th>Kota_in</th>\n",
       "      <th>layanan_in</th>\n",
       "      <th>waktu_in</th>\n",
       "      <th>key_0_out</th>\n",
       "      <th>shelter_name_var_out</th>\n",
       "      <th>transcode_txt_out</th>\n",
       "      <th>Latitude_out</th>\n",
       "      <th>Longitude_out</th>\n",
       "      <th>Kecamatan_out</th>\n",
       "      <th>Kota_out</th>\n",
       "      <th>layanan_out</th>\n",
       "      <th>waktu_out</th>\n",
       "    </tr>\n",
       "  </thead>\n",
       "  <tbody>\n",
       "    <tr>\n",
       "      <th>0</th>\n",
       "      <td>jelambar</td>\n",
       "      <td>JELAMBAR</td>\n",
       "      <td>145200004000198</td>\n",
       "      <td>NaN</td>\n",
       "      <td>-6.166548</td>\n",
       "      <td>106.786505</td>\n",
       "      <td>Grogol Petamburan</td>\n",
       "      <td>Jakarta Barat</td>\n",
       "      <td>Gate</td>\n",
       "      <td>2023-09-01 00:00:07</td>\n",
       "      <td>pulo gadung</td>\n",
       "      <td>PULO GADUNG</td>\n",
       "      <td>0145200004000198280833202309010140440000009100...</td>\n",
       "      <td>-6.183245</td>\n",
       "      <td>106.908683</td>\n",
       "      <td>Pulo Gadung</td>\n",
       "      <td>Jakarta Timur</td>\n",
       "      <td>Gate</td>\n",
       "      <td>2023-09-01 01:40:43</td>\n",
       "    </tr>\n",
       "    <tr>\n",
       "      <th>1</th>\n",
       "      <td>tegal parang arah p.ranti</td>\n",
       "      <td>TEGAL PARANG ARAH P.RANTI</td>\n",
       "      <td>6032984013611979</td>\n",
       "      <td>NaN</td>\n",
       "      <td>NaN</td>\n",
       "      <td>NaN</td>\n",
       "      <td>NaN</td>\n",
       "      <td>NaN</td>\n",
       "      <td>Gate</td>\n",
       "      <td>2023-09-01 00:00:10</td>\n",
       "      <td>pinang ranti</td>\n",
       "      <td>PINANG RANTI</td>\n",
       "      <td>603298401361197900030D706E857D9963392104000120...</td>\n",
       "      <td>-6.291075</td>\n",
       "      <td>106.886338</td>\n",
       "      <td>Makasar</td>\n",
       "      <td>Jakarta Timur</td>\n",
       "      <td>Gate</td>\n",
       "      <td>2023-09-01 00:33:48</td>\n",
       "    </tr>\n",
       "    <tr>\n",
       "      <th>2</th>\n",
       "      <td>bnn</td>\n",
       "      <td>BNN</td>\n",
       "      <td>6032984000908966</td>\n",
       "      <td>NaN</td>\n",
       "      <td>-6.246510</td>\n",
       "      <td>106.873180</td>\n",
       "      <td>Jatinegara</td>\n",
       "      <td>Jakarta Timur</td>\n",
       "      <td>Gate</td>\n",
       "      <td>2023-09-01 00:00:14</td>\n",
       "      <td>manggarai</td>\n",
       "      <td>MANGGARAI</td>\n",
       "      <td>603298400090896600020D706E857E5EC7340402000120...</td>\n",
       "      <td>-6.208880</td>\n",
       "      <td>106.847391</td>\n",
       "      <td>Setiabudi</td>\n",
       "      <td>Jakarta Selatan</td>\n",
       "      <td>Gate</td>\n",
       "      <td>2023-09-01 00:51:43</td>\n",
       "    </tr>\n",
       "    <tr>\n",
       "      <th>3</th>\n",
       "      <td>pemuda rw.mangun</td>\n",
       "      <td>PEMUDA RW.MANGUN</td>\n",
       "      <td>145015300049719</td>\n",
       "      <td>NaN</td>\n",
       "      <td>NaN</td>\n",
       "      <td>NaN</td>\n",
       "      <td>NaN</td>\n",
       "      <td>NaN</td>\n",
       "      <td>Gate</td>\n",
       "      <td>2023-09-01 00:00:16</td>\n",
       "      <td>walikota jakarta timur</td>\n",
       "      <td>WALIKOTA JAKARTA TIMUR</td>\n",
       "      <td>0145015300049719280833202309010131050000007500...</td>\n",
       "      <td>-6.212540</td>\n",
       "      <td>106.945367</td>\n",
       "      <td>Cakung</td>\n",
       "      <td>Jakarta Timur</td>\n",
       "      <td>Gate</td>\n",
       "      <td>2023-09-01 01:31:04</td>\n",
       "    </tr>\n",
       "    <tr>\n",
       "      <th>4</th>\n",
       "      <td>jelambar</td>\n",
       "      <td>JELAMBAR</td>\n",
       "      <td>6032982838756631</td>\n",
       "      <td>NaN</td>\n",
       "      <td>-6.166548</td>\n",
       "      <td>106.786505</td>\n",
       "      <td>Grogol Petamburan</td>\n",
       "      <td>Jakarta Barat</td>\n",
       "      <td>Gate</td>\n",
       "      <td>2023-09-01 00:00:19</td>\n",
       "      <td>NaN</td>\n",
       "      <td>NaN</td>\n",
       "      <td>NaN</td>\n",
       "      <td>NaN</td>\n",
       "      <td>NaN</td>\n",
       "      <td>NaN</td>\n",
       "      <td>NaN</td>\n",
       "      <td>NaN</td>\n",
       "      <td>NaT</td>\n",
       "    </tr>\n",
       "    <tr>\n",
       "      <th>...</th>\n",
       "      <td>...</td>\n",
       "      <td>...</td>\n",
       "      <td>...</td>\n",
       "      <td>...</td>\n",
       "      <td>...</td>\n",
       "      <td>...</td>\n",
       "      <td>...</td>\n",
       "      <td>...</td>\n",
       "      <td>...</td>\n",
       "      <td>...</td>\n",
       "      <td>...</td>\n",
       "      <td>...</td>\n",
       "      <td>...</td>\n",
       "      <td>...</td>\n",
       "      <td>...</td>\n",
       "      <td>...</td>\n",
       "      <td>...</td>\n",
       "      <td>...</td>\n",
       "      <td>...</td>\n",
       "    </tr>\n",
       "    <tr>\n",
       "      <th>10512619</th>\n",
       "      <td>masjid agung</td>\n",
       "      <td>MASJID AGUNG</td>\n",
       "      <td>145200310750874</td>\n",
       "      <td>NaN</td>\n",
       "      <td>-6.236483</td>\n",
       "      <td>106.798447</td>\n",
       "      <td>Kebayoran Baru</td>\n",
       "      <td>Jakarta Selatan</td>\n",
       "      <td>Gate</td>\n",
       "      <td>2023-09-30 23:59:31</td>\n",
       "      <td>NaN</td>\n",
       "      <td>NaN</td>\n",
       "      <td>NaN</td>\n",
       "      <td>NaN</td>\n",
       "      <td>NaN</td>\n",
       "      <td>NaN</td>\n",
       "      <td>NaN</td>\n",
       "      <td>NaN</td>\n",
       "      <td>NaT</td>\n",
       "    </tr>\n",
       "    <tr>\n",
       "      <th>10512620</th>\n",
       "      <td>ancol</td>\n",
       "      <td>ANCOL</td>\n",
       "      <td>6032984070849421</td>\n",
       "      <td>NaN</td>\n",
       "      <td>-6.127563</td>\n",
       "      <td>106.830391</td>\n",
       "      <td>Pademangan</td>\n",
       "      <td>Jakarta Utara</td>\n",
       "      <td>Gate</td>\n",
       "      <td>2023-09-30 23:59:38</td>\n",
       "      <td>NaN</td>\n",
       "      <td>NaN</td>\n",
       "      <td>NaN</td>\n",
       "      <td>NaN</td>\n",
       "      <td>NaN</td>\n",
       "      <td>NaN</td>\n",
       "      <td>NaN</td>\n",
       "      <td>NaN</td>\n",
       "      <td>NaT</td>\n",
       "    </tr>\n",
       "    <tr>\n",
       "      <th>10512621</th>\n",
       "      <td>jembatan gantung</td>\n",
       "      <td>JEMBATAN GANTUNG</td>\n",
       "      <td>145015300095472</td>\n",
       "      <td>NaN</td>\n",
       "      <td>-6.155513</td>\n",
       "      <td>106.749464</td>\n",
       "      <td>Cengkareng</td>\n",
       "      <td>Jakarta Barat</td>\n",
       "      <td>Gate</td>\n",
       "      <td>2023-09-30 23:59:42</td>\n",
       "      <td>NaN</td>\n",
       "      <td>NaN</td>\n",
       "      <td>NaN</td>\n",
       "      <td>NaN</td>\n",
       "      <td>NaN</td>\n",
       "      <td>NaN</td>\n",
       "      <td>NaN</td>\n",
       "      <td>NaN</td>\n",
       "      <td>NaT</td>\n",
       "    </tr>\n",
       "    <tr>\n",
       "      <th>10512622</th>\n",
       "      <td>bundaran hi</td>\n",
       "      <td>BUNDARAN HI</td>\n",
       "      <td>1003012206990513</td>\n",
       "      <td>NaN</td>\n",
       "      <td>-6.193021</td>\n",
       "      <td>106.822997</td>\n",
       "      <td>Menteng</td>\n",
       "      <td>Jakarta Pusat</td>\n",
       "      <td>Gate</td>\n",
       "      <td>2023-09-30 23:59:48</td>\n",
       "      <td>NaN</td>\n",
       "      <td>NaN</td>\n",
       "      <td>NaN</td>\n",
       "      <td>NaN</td>\n",
       "      <td>NaN</td>\n",
       "      <td>NaN</td>\n",
       "      <td>NaN</td>\n",
       "      <td>NaN</td>\n",
       "      <td>NaT</td>\n",
       "    </tr>\n",
       "    <tr>\n",
       "      <th>10512623</th>\n",
       "      <td>tosari</td>\n",
       "      <td>TOSARI</td>\n",
       "      <td>145000604378253</td>\n",
       "      <td>NaN</td>\n",
       "      <td>-6.196892</td>\n",
       "      <td>106.823092</td>\n",
       "      <td>Menteng</td>\n",
       "      <td>Jakarta Pusat</td>\n",
       "      <td>Gate</td>\n",
       "      <td>2023-09-30 23:59:57</td>\n",
       "      <td>NaN</td>\n",
       "      <td>NaN</td>\n",
       "      <td>NaN</td>\n",
       "      <td>NaN</td>\n",
       "      <td>NaN</td>\n",
       "      <td>NaN</td>\n",
       "      <td>NaN</td>\n",
       "      <td>NaN</td>\n",
       "      <td>NaT</td>\n",
       "    </tr>\n",
       "  </tbody>\n",
       "</table>\n",
       "<p>10512624 rows × 19 columns</p>\n",
       "</div>"
      ],
      "text/plain": [
       "                           key_0_in        shelter_name_var_in   \n",
       "0                          jelambar                   JELAMBAR  \\\n",
       "1         tegal parang arah p.ranti  TEGAL PARANG ARAH P.RANTI   \n",
       "2                               bnn                        BNN   \n",
       "3                  pemuda rw.mangun           PEMUDA RW.MANGUN   \n",
       "4                          jelambar                   JELAMBAR   \n",
       "...                             ...                        ...   \n",
       "10512619               masjid agung               MASJID AGUNG   \n",
       "10512620                      ancol                      ANCOL   \n",
       "10512621           jembatan gantung           JEMBATAN GANTUNG   \n",
       "10512622                bundaran hi                BUNDARAN HI   \n",
       "10512623                     tosari                     TOSARI   \n",
       "\n",
       "           card_number_var transcode_txt_in  Latitude_in  Longitude_in   \n",
       "0          145200004000198              NaN    -6.166548    106.786505  \\\n",
       "1         6032984013611979              NaN          NaN           NaN   \n",
       "2         6032984000908966              NaN    -6.246510    106.873180   \n",
       "3          145015300049719              NaN          NaN           NaN   \n",
       "4         6032982838756631              NaN    -6.166548    106.786505   \n",
       "...                    ...              ...          ...           ...   \n",
       "10512619   145200310750874              NaN    -6.236483    106.798447   \n",
       "10512620  6032984070849421              NaN    -6.127563    106.830391   \n",
       "10512621   145015300095472              NaN    -6.155513    106.749464   \n",
       "10512622  1003012206990513              NaN    -6.193021    106.822997   \n",
       "10512623   145000604378253              NaN    -6.196892    106.823092   \n",
       "\n",
       "               Kecamatan_in          Kota_in layanan_in            waktu_in   \n",
       "0         Grogol Petamburan    Jakarta Barat       Gate 2023-09-01 00:00:07  \\\n",
       "1                       NaN              NaN       Gate 2023-09-01 00:00:10   \n",
       "2                Jatinegara    Jakarta Timur       Gate 2023-09-01 00:00:14   \n",
       "3                       NaN              NaN       Gate 2023-09-01 00:00:16   \n",
       "4         Grogol Petamburan    Jakarta Barat       Gate 2023-09-01 00:00:19   \n",
       "...                     ...              ...        ...                 ...   \n",
       "10512619     Kebayoran Baru  Jakarta Selatan       Gate 2023-09-30 23:59:31   \n",
       "10512620         Pademangan    Jakarta Utara       Gate 2023-09-30 23:59:38   \n",
       "10512621         Cengkareng    Jakarta Barat       Gate 2023-09-30 23:59:42   \n",
       "10512622            Menteng    Jakarta Pusat       Gate 2023-09-30 23:59:48   \n",
       "10512623            Menteng    Jakarta Pusat       Gate 2023-09-30 23:59:57   \n",
       "\n",
       "                       key_0_out    shelter_name_var_out   \n",
       "0                    pulo gadung             PULO GADUNG  \\\n",
       "1                   pinang ranti            PINANG RANTI   \n",
       "2                      manggarai               MANGGARAI   \n",
       "3         walikota jakarta timur  WALIKOTA JAKARTA TIMUR   \n",
       "4                            NaN                     NaN   \n",
       "...                          ...                     ...   \n",
       "10512619                     NaN                     NaN   \n",
       "10512620                     NaN                     NaN   \n",
       "10512621                     NaN                     NaN   \n",
       "10512622                     NaN                     NaN   \n",
       "10512623                     NaN                     NaN   \n",
       "\n",
       "                                          transcode_txt_out  Latitude_out   \n",
       "0         0145200004000198280833202309010140440000009100...     -6.183245  \\\n",
       "1         603298401361197900030D706E857D9963392104000120...     -6.291075   \n",
       "2         603298400090896600020D706E857E5EC7340402000120...     -6.208880   \n",
       "3         0145015300049719280833202309010131050000007500...     -6.212540   \n",
       "4                                                       NaN           NaN   \n",
       "...                                                     ...           ...   \n",
       "10512619                                                NaN           NaN   \n",
       "10512620                                                NaN           NaN   \n",
       "10512621                                                NaN           NaN   \n",
       "10512622                                                NaN           NaN   \n",
       "10512623                                                NaN           NaN   \n",
       "\n",
       "          Longitude_out Kecamatan_out         Kota_out layanan_out   \n",
       "0            106.908683   Pulo Gadung    Jakarta Timur        Gate  \\\n",
       "1            106.886338       Makasar    Jakarta Timur        Gate   \n",
       "2            106.847391     Setiabudi  Jakarta Selatan        Gate   \n",
       "3            106.945367        Cakung    Jakarta Timur        Gate   \n",
       "4                   NaN           NaN              NaN         NaN   \n",
       "...                 ...           ...              ...         ...   \n",
       "10512619            NaN           NaN              NaN         NaN   \n",
       "10512620            NaN           NaN              NaN         NaN   \n",
       "10512621            NaN           NaN              NaN         NaN   \n",
       "10512622            NaN           NaN              NaN         NaN   \n",
       "10512623            NaN           NaN              NaN         NaN   \n",
       "\n",
       "                   waktu_out  \n",
       "0        2023-09-01 01:40:43  \n",
       "1        2023-09-01 00:33:48  \n",
       "2        2023-09-01 00:51:43  \n",
       "3        2023-09-01 01:31:04  \n",
       "4                        NaT  \n",
       "...                      ...  \n",
       "10512619                 NaT  \n",
       "10512620                 NaT  \n",
       "10512621                 NaT  \n",
       "10512622                 NaT  \n",
       "10512623                 NaT  \n",
       "\n",
       "[10512624 rows x 19 columns]"
      ]
     },
     "execution_count": 24,
     "metadata": {},
     "output_type": "execute_result"
    }
   ],
   "source": [
    "data_OD2"
   ]
  },
  {
   "cell_type": "code",
   "execution_count": null,
   "id": "6581716c-0834-41e4-8ee7-cf1c50b4f6bc",
   "metadata": {},
   "outputs": [],
   "source": [
    "data_tap_in.to_csv('data_tap_in_BRT-NonBRT 6-12 Des.csv')"
   ]
  },
  {
   "cell_type": "code",
   "execution_count": null,
   "id": "79f40951-135a-4aef-83a2-7110670fc3da",
   "metadata": {},
   "outputs": [],
   "source": [
    "data_tap_out.to_csv('data_tap_out_BRT-NonBRT 6-12 Des.csv')"
   ]
  },
  {
   "cell_type": "code",
   "execution_count": null,
   "id": "2a621b34-767d-4858-b903-410d351e8e69",
   "metadata": {},
   "outputs": [],
   "source": [
    "data_OD2[data_OD2['transcode_txt_out'].isnull()]"
   ]
  },
  {
   "cell_type": "code",
   "execution_count": null,
   "id": "bb52d54a-70bd-41c1-8fa5-c738a5909420",
   "metadata": {},
   "outputs": [],
   "source": [
    "data_OD2[data_OD2['card_number_var']=='7546260000552188']"
   ]
  },
  {
   "cell_type": "code",
   "execution_count": null,
   "id": "0b9a9f19-12ee-4684-bbfa-266a44a2c8dc",
   "metadata": {},
   "outputs": [],
   "source": [
    "len(data_OD2[data_OD2['card_number_var']=='7546270008492188'])"
   ]
  },
  {
   "cell_type": "code",
   "execution_count": null,
   "id": "82c89576-3d2c-454b-ab87-b1b405394494",
   "metadata": {},
   "outputs": [],
   "source": [
    "data_tap_in[data_tap_in['card_number_var']=='7546260000552188']"
   ]
  },
  {
   "cell_type": "code",
   "execution_count": null,
   "id": "43eca893-3b8f-40d9-9ebf-f5639167f45f",
   "metadata": {},
   "outputs": [],
   "source": [
    "len(data_tap_in[data_tap_in['card_number_var']=='7546270008492188'])"
   ]
  },
  {
   "cell_type": "code",
   "execution_count": null,
   "id": "83c9c52b-8e48-4be4-814a-9d300d38adf5",
   "metadata": {},
   "outputs": [],
   "source": [
    "data_tap_out[data_tap_out['card_number_var']=='7546270008492188']"
   ]
  },
  {
   "cell_type": "code",
   "execution_count": null,
   "id": "f2e20a62-be12-4365-bdfe-e184f4675d7c",
   "metadata": {},
   "outputs": [],
   "source": [
    "len(data_tap_out[data_tap_out['card_number_var']=='7546270008492188'])"
   ]
  },
  {
   "cell_type": "markdown",
   "id": "884fca34-5237-4553-9376-46af87f58261",
   "metadata": {},
   "source": [
    "data_OD2[data_OD2['card_number_var']=='6032984003020660']"
   ]
  },
  {
   "cell_type": "markdown",
   "id": "f5dc2b22-e176-4fbc-9f36-664e695d7d08",
   "metadata": {},
   "source": [
    "data_tap_in[data_tap_in['card_number_var']=='6032984003020660']"
   ]
  },
  {
   "cell_type": "markdown",
   "id": "eae53b77-63f5-406c-b00c-693e7a6d8163",
   "metadata": {},
   "source": [
    "data_tap_out[data_tap_out['card_number_var']=='6032984003020660']"
   ]
  },
  {
   "cell_type": "code",
   "execution_count": null,
   "id": "d975c8f8-26d9-40c3-87e1-99e07702cfeb",
   "metadata": {},
   "outputs": [],
   "source": []
  }
 ],
 "metadata": {
  "kernelspec": {
   "display_name": "Python 3 (ipykernel)",
   "language": "python",
   "name": "python3"
  },
  "language_info": {
   "codemirror_mode": {
    "name": "ipython",
    "version": 3
   },
   "file_extension": ".py",
   "mimetype": "text/x-python",
   "name": "python",
   "nbconvert_exporter": "python",
   "pygments_lexer": "ipython3",
   "version": "3.9.13"
  }
 },
 "nbformat": 4,
 "nbformat_minor": 5
}
